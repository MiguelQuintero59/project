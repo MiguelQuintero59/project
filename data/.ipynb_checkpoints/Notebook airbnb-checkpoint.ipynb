{
 "cells": [
  {
   "cell_type": "code",
   "execution_count": 1,
   "metadata": {},
   "outputs": [],
   "source": [
    "import pandas as pd\n",
    "import folium\n",
    "import typing\n",
    "from folium.plugins import HeatMap"
   ]
  },
  {
   "cell_type": "code",
   "execution_count": 2,
   "metadata": {},
   "outputs": [],
   "source": [
    "df = pd.read_csv('cartagena.csv', dtype='str')"
   ]
  },
  {
   "cell_type": "code",
   "execution_count": 3,
   "metadata": {},
   "outputs": [],
   "source": [
    "df = df[df.price_rate.apply(lambda x: x.isnumeric())]"
   ]
  },
  {
   "cell_type": "code",
   "execution_count": 4,
   "metadata": {},
   "outputs": [
    {
     "data": {
      "text/plain": [
       "(315, 1726)"
      ]
     },
     "execution_count": 4,
     "metadata": {},
     "output_type": "execute_result"
    }
   ],
   "source": [
    "df.shape"
   ]
  },
  {
   "cell_type": "code",
   "execution_count": 5,
   "metadata": {},
   "outputs": [
    {
     "name": "stdout",
     "output_type": "stream",
     "text": [
      "<class 'pandas.core.frame.DataFrame'>\n",
      "Int64Index: 315 entries, 0 to 569\n",
      "Columns: 1726 entries, name to Unnamed: 1725\n",
      "dtypes: object(1726)\n",
      "memory usage: 4.2+ MB\n"
     ]
    }
   ],
   "source": [
    "df.info()"
   ]
  },
  {
   "cell_type": "code",
   "execution_count": 6,
   "metadata": {},
   "outputs": [],
   "source": [
    "df = df.loc[:, ~df.columns.str.contains('^Unnamed')]"
   ]
  },
  {
   "cell_type": "code",
   "execution_count": 7,
   "metadata": {},
   "outputs": [
    {
     "data": {
      "text/plain": [
       "Index(['name', 'url', 'price_rate', 'price_rate_type', 'total_price',\n",
       "       'room_and_property_type', 'min_nights', 'max_nights', 'latitude',\n",
       "       'longitude', 'monthly_price_factor', 'weekly_price_factor', 'room_type',\n",
       "       'person_capacity', 'summary', 'amenities', 'review_count',\n",
       "       'review_score', 'rating_accuracy', 'rating_checkin',\n",
       "       'rating_cleanliness', 'rating_communication', 'rating_location',\n",
       "       'rating_value', 'star_rating', 'satisfaction_guest', 'description',\n",
       "       'neighborhood_overview', 'notes', 'additional_house_rules',\n",
       "       'interaction', 'access', 'transit', 'response_rate'],\n",
       "      dtype='object')"
      ]
     },
     "execution_count": 7,
     "metadata": {},
     "output_type": "execute_result"
    }
   ],
   "source": [
    "df.columns"
   ]
  },
  {
   "cell_type": "code",
   "execution_count": 8,
   "metadata": {},
   "outputs": [],
   "source": [
    "df.drop('total_price',inplace= True, axis=1)"
   ]
  },
  {
   "cell_type": "code",
   "execution_count": 9,
   "metadata": {},
   "outputs": [
    {
     "data": {
      "text/plain": [
       "name                        0\n",
       "url                         0\n",
       "price_rate                  0\n",
       "price_rate_type             0\n",
       "room_and_property_type      0\n",
       "min_nights                  0\n",
       "max_nights                315\n",
       "latitude                    0\n",
       "longitude                   0\n",
       "monthly_price_factor        0\n",
       "weekly_price_factor         0\n",
       "room_type                   0\n",
       "person_capacity             0\n",
       "summary                     7\n",
       "amenities                   0\n",
       "review_count                0\n",
       "review_score               29\n",
       "rating_accuracy            29\n",
       "rating_checkin             29\n",
       "rating_cleanliness         29\n",
       "rating_communication       29\n",
       "rating_location            29\n",
       "rating_value               29\n",
       "star_rating                51\n",
       "satisfaction_guest         29\n",
       "description                 6\n",
       "neighborhood_overview      70\n",
       "notes                     127\n",
       "additional_house_rules    105\n",
       "interaction                75\n",
       "access                     93\n",
       "transit                    91\n",
       "response_rate             315\n",
       "dtype: int64"
      ]
     },
     "execution_count": 9,
     "metadata": {},
     "output_type": "execute_result"
    }
   ],
   "source": [
    "df.isna().sum()"
   ]
  },
  {
   "cell_type": "code",
   "execution_count": 10,
   "metadata": {},
   "outputs": [
    {
     "data": {
      "text/html": [
       "<div>\n",
       "<style scoped>\n",
       "    .dataframe tbody tr th:only-of-type {\n",
       "        vertical-align: middle;\n",
       "    }\n",
       "\n",
       "    .dataframe tbody tr th {\n",
       "        vertical-align: top;\n",
       "    }\n",
       "\n",
       "    .dataframe thead th {\n",
       "        text-align: right;\n",
       "    }\n",
       "</style>\n",
       "<table border=\"1\" class=\"dataframe\">\n",
       "  <thead>\n",
       "    <tr style=\"text-align: right;\">\n",
       "      <th></th>\n",
       "      <th>name</th>\n",
       "      <th>url</th>\n",
       "      <th>price_rate</th>\n",
       "      <th>price_rate_type</th>\n",
       "      <th>room_and_property_type</th>\n",
       "      <th>min_nights</th>\n",
       "      <th>max_nights</th>\n",
       "      <th>latitude</th>\n",
       "      <th>longitude</th>\n",
       "      <th>monthly_price_factor</th>\n",
       "      <th>...</th>\n",
       "      <th>star_rating</th>\n",
       "      <th>satisfaction_guest</th>\n",
       "      <th>description</th>\n",
       "      <th>neighborhood_overview</th>\n",
       "      <th>notes</th>\n",
       "      <th>additional_house_rules</th>\n",
       "      <th>interaction</th>\n",
       "      <th>access</th>\n",
       "      <th>transit</th>\n",
       "      <th>response_rate</th>\n",
       "    </tr>\n",
       "  </thead>\n",
       "  <tbody>\n",
       "    <tr>\n",
       "      <th>0</th>\n",
       "      <td>Espectacular Vista al Mar en Morros City</td>\n",
       "      <td>https://www.airbnb.com/rooms/26993430</td>\n",
       "      <td>72</td>\n",
       "      <td>nightly</td>\n",
       "      <td>Entire apartment</td>\n",
       "      <td>2</td>\n",
       "      <td>NaN</td>\n",
       "      <td>10.40645</td>\n",
       "      <td>-75.55384</td>\n",
       "      <td>0.8</td>\n",
       "      <td>...</td>\n",
       "      <td>5</td>\n",
       "      <td>98</td>\n",
       "      <td>Apartamento frente al mar en piso alto con una...</td>\n",
       "      <td>NaN</td>\n",
       "      <td>NaN</td>\n",
       "      <td>En este apartamento podrán hospedarse un máxim...</td>\n",
       "      <td>NaN</td>\n",
       "      <td>El edificio cuenta con áreas de descanso y áre...</td>\n",
       "      <td>NaN</td>\n",
       "      <td>NaN</td>\n",
       "    </tr>\n",
       "    <tr>\n",
       "      <th>1</th>\n",
       "      <td>Oceanfront Palmetto Eliptic 3904</td>\n",
       "      <td>https://www.airbnb.com/rooms/3395204</td>\n",
       "      <td>52</td>\n",
       "      <td>nightly</td>\n",
       "      <td>Entire condominium</td>\n",
       "      <td>1</td>\n",
       "      <td>NaN</td>\n",
       "      <td>10.403</td>\n",
       "      <td>-75.557</td>\n",
       "      <td>0.6</td>\n",
       "      <td>...</td>\n",
       "      <td>4.5</td>\n",
       "      <td>92</td>\n",
       "      <td>INTERNET UPDATED 50MB/S\\nThe condo is located ...</td>\n",
       "      <td>Best location in Bocagrande, Juan Valdez is ne...</td>\n",
       "      <td>All visitors to the premises are restricted an...</td>\n",
       "      <td>Smoking is not allowed inside the apartment ho...</td>\n",
       "      <td>NaN</td>\n",
       "      <td>2 pools and Jacuzzi Facing the Ocean.</td>\n",
       "      <td>Taxis are easy to arrange with the help of the...</td>\n",
       "      <td>NaN</td>\n",
       "    </tr>\n",
       "    <tr>\n",
       "      <th>3</th>\n",
       "      <td>Apartamento amoblado en Cartagena de Indias</td>\n",
       "      <td>https://www.airbnb.com/rooms/30467567</td>\n",
       "      <td>24</td>\n",
       "      <td>nightly</td>\n",
       "      <td>Entire apartment</td>\n",
       "      <td>30</td>\n",
       "      <td>NaN</td>\n",
       "      <td>10.43477</td>\n",
       "      <td>-75.53452</td>\n",
       "      <td>0.8</td>\n",
       "      <td>...</td>\n",
       "      <td>4.5</td>\n",
       "      <td>93</td>\n",
       "      <td>Apartamento nuevo\\n\\nIdeal para vivir solo o e...</td>\n",
       "      <td>El edificio AQUALINA queda a 15 minutos camina...</td>\n",
       "      <td>El apartamento se puede limpiar bajo petición ...</td>\n",
       "      <td>- Hora de ingreso: 15:00\\n- Tarifa de pago adi...</td>\n",
       "      <td>Nuestro Equipo de trabajo estará en la propied...</td>\n",
       "      <td>Las áreas comunes como el Gym y la piscina cue...</td>\n",
       "      <td>La Propiedad está localizada cerca al Centro H...</td>\n",
       "      <td>NaN</td>\n",
       "    </tr>\n",
       "    <tr>\n",
       "      <th>4</th>\n",
       "      <td>Quite Sunset View Apartment, Palmetto Sunset</td>\n",
       "      <td>https://www.airbnb.com/rooms/30764050</td>\n",
       "      <td>67</td>\n",
       "      <td>nightly</td>\n",
       "      <td>Entire serviced apartment</td>\n",
       "      <td>1</td>\n",
       "      <td>NaN</td>\n",
       "      <td>10.395</td>\n",
       "      <td>-75.563</td>\n",
       "      <td>0.8</td>\n",
       "      <td>...</td>\n",
       "      <td>4.5</td>\n",
       "      <td>92</td>\n",
       "      <td>In the most modern part of Cartagena you'll fi...</td>\n",
       "      <td>The neighborhood is in the elite and prominent...</td>\n",
       "      <td>1. ID/PASSPORT: All guests and visitors must p...</td>\n",
       "      <td>Strict Rules:\\n1. Guests must be registered wi...</td>\n",
       "      <td>If you have questions or wishes please don´t h...</td>\n",
       "      <td>The whole apartment will be reserved for your ...</td>\n",
       "      <td>You can walk, rent bikes or use buses. But I r...</td>\n",
       "      <td>NaN</td>\n",
       "    </tr>\n",
       "    <tr>\n",
       "      <th>6</th>\n",
       "      <td>Super Luxury 3 BR with Private Jacuzzi</td>\n",
       "      <td>https://www.airbnb.com/rooms/34514889</td>\n",
       "      <td>155</td>\n",
       "      <td>nightly</td>\n",
       "      <td>Entire apartment</td>\n",
       "      <td>2</td>\n",
       "      <td>NaN</td>\n",
       "      <td>10.39554</td>\n",
       "      <td>-75.56325</td>\n",
       "      <td>1</td>\n",
       "      <td>...</td>\n",
       "      <td>5</td>\n",
       "      <td>99</td>\n",
       "      <td>The Apartment is located in El Laguito / Bocag...</td>\n",
       "      <td>NaN</td>\n",
       "      <td>NaN</td>\n",
       "      <td>NaN</td>\n",
       "      <td>I’m always available by airbnb application, sm...</td>\n",
       "      <td>You can use all the apartment and also the com...</td>\n",
       "      <td>NaN</td>\n",
       "      <td>NaN</td>\n",
       "    </tr>\n",
       "  </tbody>\n",
       "</table>\n",
       "<p>5 rows × 33 columns</p>\n",
       "</div>"
      ],
      "text/plain": [
       "                                           name  \\\n",
       "0      Espectacular Vista al Mar en Morros City   \n",
       "1              Oceanfront Palmetto Eliptic 3904   \n",
       "3   Apartamento amoblado en Cartagena de Indias   \n",
       "4  Quite Sunset View Apartment, Palmetto Sunset   \n",
       "6        Super Luxury 3 BR with Private Jacuzzi   \n",
       "\n",
       "                                     url price_rate price_rate_type  \\\n",
       "0  https://www.airbnb.com/rooms/26993430         72         nightly   \n",
       "1   https://www.airbnb.com/rooms/3395204         52         nightly   \n",
       "3  https://www.airbnb.com/rooms/30467567         24         nightly   \n",
       "4  https://www.airbnb.com/rooms/30764050         67         nightly   \n",
       "6  https://www.airbnb.com/rooms/34514889        155         nightly   \n",
       "\n",
       "      room_and_property_type min_nights max_nights  latitude  longitude  \\\n",
       "0           Entire apartment          2        NaN  10.40645  -75.55384   \n",
       "1         Entire condominium          1        NaN    10.403    -75.557   \n",
       "3           Entire apartment         30        NaN  10.43477  -75.53452   \n",
       "4  Entire serviced apartment          1        NaN    10.395    -75.563   \n",
       "6           Entire apartment          2        NaN  10.39554  -75.56325   \n",
       "\n",
       "  monthly_price_factor  ... star_rating satisfaction_guest  \\\n",
       "0                  0.8  ...           5                 98   \n",
       "1                  0.6  ...         4.5                 92   \n",
       "3                  0.8  ...         4.5                 93   \n",
       "4                  0.8  ...         4.5                 92   \n",
       "6                    1  ...           5                 99   \n",
       "\n",
       "                                         description  \\\n",
       "0  Apartamento frente al mar en piso alto con una...   \n",
       "1  INTERNET UPDATED 50MB/S\\nThe condo is located ...   \n",
       "3  Apartamento nuevo\\n\\nIdeal para vivir solo o e...   \n",
       "4  In the most modern part of Cartagena you'll fi...   \n",
       "6  The Apartment is located in El Laguito / Bocag...   \n",
       "\n",
       "                               neighborhood_overview  \\\n",
       "0                                                NaN   \n",
       "1  Best location in Bocagrande, Juan Valdez is ne...   \n",
       "3  El edificio AQUALINA queda a 15 minutos camina...   \n",
       "4  The neighborhood is in the elite and prominent...   \n",
       "6                                                NaN   \n",
       "\n",
       "                                               notes  \\\n",
       "0                                                NaN   \n",
       "1  All visitors to the premises are restricted an...   \n",
       "3  El apartamento se puede limpiar bajo petición ...   \n",
       "4  1. ID/PASSPORT: All guests and visitors must p...   \n",
       "6                                                NaN   \n",
       "\n",
       "                              additional_house_rules  \\\n",
       "0  En este apartamento podrán hospedarse un máxim...   \n",
       "1  Smoking is not allowed inside the apartment ho...   \n",
       "3  - Hora de ingreso: 15:00\\n- Tarifa de pago adi...   \n",
       "4  Strict Rules:\\n1. Guests must be registered wi...   \n",
       "6                                                NaN   \n",
       "\n",
       "                                         interaction  \\\n",
       "0                                                NaN   \n",
       "1                                                NaN   \n",
       "3  Nuestro Equipo de trabajo estará en la propied...   \n",
       "4  If you have questions or wishes please don´t h...   \n",
       "6  I’m always available by airbnb application, sm...   \n",
       "\n",
       "                                              access  \\\n",
       "0  El edificio cuenta con áreas de descanso y áre...   \n",
       "1              2 pools and Jacuzzi Facing the Ocean.   \n",
       "3  Las áreas comunes como el Gym y la piscina cue...   \n",
       "4  The whole apartment will be reserved for your ...   \n",
       "6  You can use all the apartment and also the com...   \n",
       "\n",
       "                                             transit response_rate  \n",
       "0                                                NaN           NaN  \n",
       "1  Taxis are easy to arrange with the help of the...           NaN  \n",
       "3  La Propiedad está localizada cerca al Centro H...           NaN  \n",
       "4  You can walk, rent bikes or use buses. But I r...           NaN  \n",
       "6                                                NaN           NaN  \n",
       "\n",
       "[5 rows x 33 columns]"
      ]
     },
     "execution_count": 10,
     "metadata": {},
     "output_type": "execute_result"
    }
   ],
   "source": [
    "df.head()"
   ]
  },
  {
   "cell_type": "code",
   "execution_count": 11,
   "metadata": {},
   "outputs": [
    {
     "data": {
      "text/plain": [
       "room_and_property_type\n",
       "Entire apartment             217\n",
       "Entire condominium            60\n",
       "Entire serviced apartment     17\n",
       "Entire house                  14\n",
       "Entire loft                    6\n",
       "Entire townhouse               1\n",
       "dtype: int64"
      ]
     },
     "execution_count": 11,
     "metadata": {},
     "output_type": "execute_result"
    }
   ],
   "source": [
    "df.value_counts('room_and_property_type')"
   ]
  },
  {
   "cell_type": "code",
   "execution_count": 12,
   "metadata": {},
   "outputs": [],
   "source": []
  },
  {
   "cell_type": "code",
   "execution_count": 13,
   "metadata": {},
   "outputs": [],
   "source": [
    "# folium_map = folium.Map(location=[10.3932, -75.4832],\n",
    "#                         zoom_start=10,\n",
    "#                         tiles=\"OpenStreetMap\") \n",
    "#'CartoDB dark_matter'"
   ]
  },
  {
   "cell_type": "code",
   "execution_count": 14,
   "metadata": {},
   "outputs": [],
   "source": [
    "# folium_map"
   ]
  },
  {
   "cell_type": "code",
   "execution_count": 15,
   "metadata": {},
   "outputs": [],
   "source": [
    "# df[\"latitude\"] = df[\"latitude\"].str.strip()\n",
    "# df[\"longitude\"] = df[\"longitude\"].str.strip()"
   ]
  },
  {
   "cell_type": "code",
   "execution_count": 16,
   "metadata": {},
   "outputs": [],
   "source": [
    "df[\"latitude\"]  = pd.to_numeric(df['latitude'], downcast= 'float')  \n",
    "df[\"longitude\"]= pd.to_numeric(df['longitude'], downcast= 'float')\n",
    "df[\"price_rate\"]= pd.to_numeric(df['price_rate'], downcast= 'float')"
   ]
  },
  {
   "cell_type": "code",
   "execution_count": 28,
   "metadata": {},
   "outputs": [],
   "source": [
    "# folium_map = folium.Map(location=[10.3932, -75.4832],\n",
    "#                         zoom_start=10,\n",
    "#                         tiles=\"OpenStreetMap\")\n",
    "\n",
    "# for i in range(0,300):\n",
    "#     marker = folium.CircleMarker(location=[df[\"latitude\"][i],df[\"longitude\"][i]],radius=20,color=\"b\")\n",
    "#     marker.add_to(folium_map)\n",
    "\n",
    "# folium_map"
   ]
  },
  {
   "cell_type": "code",
   "execution_count": 27,
   "metadata": {},
   "outputs": [
    {
     "data": {
      "text/html": [
       "<div style=\"width:100%;\"><div style=\"position:relative;width:100%;height:0;padding-bottom:60%;\"><span style=\"color:#565656\">Make this Notebook Trusted to load map: File -> Trust Notebook</span><iframe src=\"about:blank\" style=\"position:absolute;width:100%;height:100%;left:0;top:0;border:none !important;\" data-html=%3C%21DOCTYPE%20html%3E%0A%3Chead%3E%20%20%20%20%0A%20%20%20%20%3Cmeta%20http-equiv%3D%22content-type%22%20content%3D%22text/html%3B%20charset%3DUTF-8%22%20/%3E%0A%20%20%20%20%0A%20%20%20%20%20%20%20%20%3Cscript%3E%0A%20%20%20%20%20%20%20%20%20%20%20%20L_NO_TOUCH%20%3D%20false%3B%0A%20%20%20%20%20%20%20%20%20%20%20%20L_DISABLE_3D%20%3D%20false%3B%0A%20%20%20%20%20%20%20%20%3C/script%3E%0A%20%20%20%20%0A%20%20%20%20%3Cstyle%3Ehtml%2C%20body%20%7Bwidth%3A%20100%25%3Bheight%3A%20100%25%3Bmargin%3A%200%3Bpadding%3A%200%3B%7D%3C/style%3E%0A%20%20%20%20%3Cstyle%3E%23map%20%7Bposition%3Aabsolute%3Btop%3A0%3Bbottom%3A0%3Bright%3A0%3Bleft%3A0%3B%7D%3C/style%3E%0A%20%20%20%20%3Cscript%20src%3D%22https%3A//cdn.jsdelivr.net/npm/leaflet%401.6.0/dist/leaflet.js%22%3E%3C/script%3E%0A%20%20%20%20%3Cscript%20src%3D%22https%3A//code.jquery.com/jquery-1.12.4.min.js%22%3E%3C/script%3E%0A%20%20%20%20%3Cscript%20src%3D%22https%3A//maxcdn.bootstrapcdn.com/bootstrap/3.2.0/js/bootstrap.min.js%22%3E%3C/script%3E%0A%20%20%20%20%3Cscript%20src%3D%22https%3A//cdnjs.cloudflare.com/ajax/libs/Leaflet.awesome-markers/2.0.2/leaflet.awesome-markers.js%22%3E%3C/script%3E%0A%20%20%20%20%3Clink%20rel%3D%22stylesheet%22%20href%3D%22https%3A//cdn.jsdelivr.net/npm/leaflet%401.6.0/dist/leaflet.css%22/%3E%0A%20%20%20%20%3Clink%20rel%3D%22stylesheet%22%20href%3D%22https%3A//maxcdn.bootstrapcdn.com/bootstrap/3.2.0/css/bootstrap.min.css%22/%3E%0A%20%20%20%20%3Clink%20rel%3D%22stylesheet%22%20href%3D%22https%3A//maxcdn.bootstrapcdn.com/bootstrap/3.2.0/css/bootstrap-theme.min.css%22/%3E%0A%20%20%20%20%3Clink%20rel%3D%22stylesheet%22%20href%3D%22https%3A//maxcdn.bootstrapcdn.com/font-awesome/4.6.3/css/font-awesome.min.css%22/%3E%0A%20%20%20%20%3Clink%20rel%3D%22stylesheet%22%20href%3D%22https%3A//cdnjs.cloudflare.com/ajax/libs/Leaflet.awesome-markers/2.0.2/leaflet.awesome-markers.css%22/%3E%0A%20%20%20%20%3Clink%20rel%3D%22stylesheet%22%20href%3D%22https%3A//cdn.jsdelivr.net/gh/python-visualization/folium/folium/templates/leaflet.awesome.rotate.min.css%22/%3E%0A%20%20%20%20%0A%20%20%20%20%20%20%20%20%20%20%20%20%3Cmeta%20name%3D%22viewport%22%20content%3D%22width%3Ddevice-width%2C%0A%20%20%20%20%20%20%20%20%20%20%20%20%20%20%20%20initial-scale%3D1.0%2C%20maximum-scale%3D1.0%2C%20user-scalable%3Dno%22%20/%3E%0A%20%20%20%20%20%20%20%20%20%20%20%20%3Cstyle%3E%0A%20%20%20%20%20%20%20%20%20%20%20%20%20%20%20%20%23map_ab529c83247f45fe9494615fdaa2a708%20%7B%0A%20%20%20%20%20%20%20%20%20%20%20%20%20%20%20%20%20%20%20%20position%3A%20relative%3B%0A%20%20%20%20%20%20%20%20%20%20%20%20%20%20%20%20%20%20%20%20width%3A%20100.0%25%3B%0A%20%20%20%20%20%20%20%20%20%20%20%20%20%20%20%20%20%20%20%20height%3A%20100.0%25%3B%0A%20%20%20%20%20%20%20%20%20%20%20%20%20%20%20%20%20%20%20%20left%3A%200.0%25%3B%0A%20%20%20%20%20%20%20%20%20%20%20%20%20%20%20%20%20%20%20%20top%3A%200.0%25%3B%0A%20%20%20%20%20%20%20%20%20%20%20%20%20%20%20%20%7D%0A%20%20%20%20%20%20%20%20%20%20%20%20%3C/style%3E%0A%20%20%20%20%20%20%20%20%0A%20%20%20%20%3Cscript%20src%3D%22https%3A//cdn.jsdelivr.net/gh/python-visualization/folium%40master/folium/templates/leaflet_heat.min.js%22%3E%3C/script%3E%0A%3C/head%3E%0A%3Cbody%3E%20%20%20%20%0A%20%20%20%20%0A%20%20%20%20%20%20%20%20%20%20%20%20%3Cdiv%20class%3D%22folium-map%22%20id%3D%22map_ab529c83247f45fe9494615fdaa2a708%22%20%3E%3C/div%3E%0A%20%20%20%20%20%20%20%20%0A%3C/body%3E%0A%3Cscript%3E%20%20%20%20%0A%20%20%20%20%0A%20%20%20%20%20%20%20%20%20%20%20%20var%20map_ab529c83247f45fe9494615fdaa2a708%20%3D%20L.map%28%0A%20%20%20%20%20%20%20%20%20%20%20%20%20%20%20%20%22map_ab529c83247f45fe9494615fdaa2a708%22%2C%0A%20%20%20%20%20%20%20%20%20%20%20%20%20%20%20%20%7B%0A%20%20%20%20%20%20%20%20%20%20%20%20%20%20%20%20%20%20%20%20center%3A%20%5B10.3932%2C%20-75.4832%5D%2C%0A%20%20%20%20%20%20%20%20%20%20%20%20%20%20%20%20%20%20%20%20crs%3A%20L.CRS.EPSG3857%2C%0A%20%20%20%20%20%20%20%20%20%20%20%20%20%20%20%20%20%20%20%20zoom%3A%2010%2C%0A%20%20%20%20%20%20%20%20%20%20%20%20%20%20%20%20%20%20%20%20zoomControl%3A%20true%2C%0A%20%20%20%20%20%20%20%20%20%20%20%20%20%20%20%20%20%20%20%20preferCanvas%3A%20false%2C%0A%20%20%20%20%20%20%20%20%20%20%20%20%20%20%20%20%7D%0A%20%20%20%20%20%20%20%20%20%20%20%20%29%3B%0A%0A%20%20%20%20%20%20%20%20%20%20%20%20%0A%0A%20%20%20%20%20%20%20%20%0A%20%20%20%20%0A%20%20%20%20%20%20%20%20%20%20%20%20var%20tile_layer_c8c408285c5142b8bf9d48227ed57c76%20%3D%20L.tileLayer%28%0A%20%20%20%20%20%20%20%20%20%20%20%20%20%20%20%20%22https%3A//%7Bs%7D.tile.openstreetmap.org/%7Bz%7D/%7Bx%7D/%7By%7D.png%22%2C%0A%20%20%20%20%20%20%20%20%20%20%20%20%20%20%20%20%7B%22attribution%22%3A%20%22Data%20by%20%5Cu0026copy%3B%20%5Cu003ca%20href%3D%5C%22http%3A//openstreetmap.org%5C%22%5Cu003eOpenStreetMap%5Cu003c/a%5Cu003e%2C%20under%20%5Cu003ca%20href%3D%5C%22http%3A//www.openstreetmap.org/copyright%5C%22%5Cu003eODbL%5Cu003c/a%5Cu003e.%22%2C%20%22detectRetina%22%3A%20false%2C%20%22maxNativeZoom%22%3A%2018%2C%20%22maxZoom%22%3A%2018%2C%20%22minZoom%22%3A%200%2C%20%22noWrap%22%3A%20false%2C%20%22opacity%22%3A%201%2C%20%22subdomains%22%3A%20%22abc%22%2C%20%22tms%22%3A%20false%7D%0A%20%20%20%20%20%20%20%20%20%20%20%20%29.addTo%28map_ab529c83247f45fe9494615fdaa2a708%29%3B%0A%20%20%20%20%20%20%20%20%0A%20%20%20%20%0A%20%20%20%20%20%20%20%20%20%20%20%20var%20heat_map_16bb6fce047d44c48a4f838c7a600e40%20%3D%20L.heatLayer%28%0A%20%20%20%20%20%20%20%20%20%20%20%20%20%20%20%20%5B%5B10.406450271606445%2C%20-75.55384063720703%2C%2072.0%5D%2C%20%5B10.402999877929688%2C%20-75.55699920654297%2C%2052.0%5D%2C%20%5B10.434769630432129%2C%20-75.5345230102539%2C%2024.0%5D%2C%20%5B10.395000457763672%2C%20-75.56300354003906%2C%2067.0%5D%2C%20%5B10.395540237426758%2C%20-75.56324768066406%2C%20155.0%5D%2C%20%5B10.456669807434082%2C%20-75.50482940673828%2C%2073.0%5D%2C%20%5B10.394000053405762%2C%20-75.56099700927734%2C%2042.0%5D%2C%20%5B10.399999618530273%2C%20-75.55699920654297%2C%2021.0%5D%2C%20%5B10.461999893188477%2C%20-75.50399780273438%2C%2045.0%5D%2C%20%5B10.406089782714844%2C%20-75.5533676147461%2C%2057.0%5D%2C%20%5B10.423959732055664%2C%20-75.55174255371094%2C%2060.0%5D%2C%20%5B10.416560173034668%2C%20-75.54219055175781%2C%2042.0%5D%2C%20%5B10.434590339660645%2C%20-75.53845977783203%2C%2033.0%5D%2C%20%5B10.3928804397583%2C%20-75.5626220703125%2C%2036.0%5D%2C%20%5B10.422789573669434%2C%20-75.5339126586914%2C%2029.0%5D%2C%20%5B10.396109580993652%2C%20-75.56259155273438%2C%2056.0%5D%2C%20%5B10.39385986328125%2C%20-75.56067657470703%2C%2045.0%5D%2C%20%5B10.430729866027832%2C%20-75.53646850585938%2C%2024.0%5D%2C%20%5B10.394109725952148%2C%20-75.56268310546875%2C%2059.0%5D%2C%20%5B10.416119575500488%2C%20-75.54115295410156%2C%2058.0%5D%2C%20%5B10.406510353088379%2C%20-75.55265808105469%2C%2055.0%5D%2C%20%5B10.406000137329102%2C%20-75.55400085449219%2C%2072.0%5D%2C%20%5B10.465310096740723%2C%20-75.50186157226562%2C%20117.0%5D%2C%20%5B10.404999732971191%2C%20-75.55500030517578%2C%2053.0%5D%2C%20%5B10.395910263061523%2C%20-75.56352996826172%2C%2079.0%5D%2C%20%5B10.406609535217285%2C%20-75.55367279052734%2C%2068.0%5D%2C%20%5B10.404999732971191%2C%20-75.55500030517578%2C%2059.0%5D%2C%20%5B10.394000053405762%2C%20-75.56199645996094%2C%2067.0%5D%2C%20%5B10.45592975616455%2C%20-75.50479888916016%2C%2084.0%5D%2C%20%5B10.393969535827637%2C%20-75.56172943115234%2C%2070.0%5D%2C%20%5B10.470890045166016%2C%20-75.50032806396484%2C%2063.0%5D%2C%20%5B10.426770210266113%2C%20-75.54886627197266%2C%20104.0%5D%2C%20%5B10.400879859924316%2C%20-75.55341339111328%2C%2058.0%5D%2C%20%5B10.406999588012695%2C%20-75.552001953125%2C%2037.0%5D%2C%20%5B10.39661979675293%2C%20-75.56366729736328%2C%2059.0%5D%2C%20%5B10.395000457763672%2C%20-75.56300354003906%2C%2083.0%5D%2C%20%5B10.456609725952148%2C%20-75.50447845458984%2C%2060.0%5D%2C%20%5B10.417369842529297%2C%20-75.54129028320312%2C%2043.0%5D%2C%20%5B10.4170503616333%2C%20-75.54061126708984%2C%2058.0%5D%2C%20%5B10.40466022491455%2C%20-75.5545425415039%2C%2092.0%5D%2C%20%5B10.401749610900879%2C%20-75.55457305908203%2C%2062.0%5D%2C%20%5B10.45263957977295%2C%20-75.51481628417969%2C%2052.0%5D%2C%20%5B10.415430068969727%2C%20-75.552001953125%2C%2072.0%5D%2C%20%5B10.45674991607666%2C%20-75.50559997558594%2C%2061.0%5D%2C%20%5B10.395050048828125%2C%20-75.56352996826172%2C%2072.0%5D%2C%20%5B10.405940055847168%2C%20-75.55387115478516%2C%2072.0%5D%2C%20%5B10.395400047302246%2C%20-75.5626220703125%2C%20224.0%5D%2C%20%5B10.395000457763672%2C%20-75.56199645996094%2C%2052.0%5D%2C%20%5B10.455809593200684%2C%20-75.50537109375%2C%2079.0%5D%2C%20%5B10.456689834594727%2C%20-75.50753784179688%2C%2057.0%5D%2C%20%5B10.395000457763672%2C%20-75.56300354003906%2C%2077.0%5D%2C%20%5B10.406720161437988%2C%20-75.5524673461914%2C%2068.0%5D%2C%20%5B10.395000457763672%2C%20-75.56300354003906%2C%2067.0%5D%2C%20%5B10.403719902038574%2C%20-75.55563354492188%2C%20121.0%5D%2C%20%5B10.463239669799805%2C%20-75.50241088867188%2C%2041.0%5D%2C%20%5B10.399999618530273%2C%20-75.55699920654297%2C%2027.0%5D%2C%20%5B10.405610084533691%2C%20-75.5540771484375%2C%20106.0%5D%2C%20%5B10.40447998046875%2C%20-75.554443359375%2C%2054.0%5D%2C%20%5B10.456469535827637%2C%20-75.5048599243164%2C%2074.0%5D%2C%20%5B10.437219619750977%2C%20-75.5354232788086%2C%2030.0%5D%2C%20%5B10.394559860229492%2C%20-75.56381225585938%2C%2081.0%5D%2C%20%5B10.416489601135254%2C%20-75.54106140136719%2C%2058.0%5D%2C%20%5B10.406000137329102%2C%20-75.55500030517578%2C%2056.0%5D%2C%20%5B10.39480972290039%2C%20-75.56336212158203%2C%20144.0%5D%2C%20%5B10.405179977416992%2C%20-75.55374908447266%2C%2063.0%5D%2C%20%5B10.41217041015625%2C%20-75.5518569946289%2C%20119.0%5D%2C%20%5B10.40330982208252%2C%20-75.55725860595703%2C%2049.0%5D%2C%20%5B10.395000457763672%2C%20-75.56199645996094%2C%2071.0%5D%2C%20%5B10.427000045776367%2C%20-75.54499816894531%2C%20168.0%5D%2C%20%5B10.404330253601074%2C%20-75.55622863769531%2C%2062.0%5D%2C%20%5B10.404120445251465%2C%20-75.55439758300781%2C%2059.0%5D%2C%20%5B10.399999618530273%2C%20-75.55699920654297%2C%2026.0%5D%2C%20%5B10.3956298828125%2C%20-75.56291198730469%2C%20108.0%5D%2C%20%5B10.394000053405762%2C%20-75.56099700927734%2C%20144.0%5D%2C%20%5B10.464400291442871%2C%20-75.5038833618164%2C%2084.0%5D%2C%20%5B10.403889656066895%2C%20-75.5571517944336%2C%2076.0%5D%2C%20%5B10.422309875488281%2C%20-75.55029296875%2C%20183.0%5D%2C%20%5B10.401670455932617%2C%20-75.55290222167969%2C%2057.0%5D%2C%20%5B10.410249710083008%2C%20-75.55142211914062%2C%2057.0%5D%2C%20%5B10.408820152282715%2C%20-75.55213165283203%2C%2067.0%5D%2C%20%5B10.395000457763672%2C%20-75.56300354003906%2C%2069.0%5D%2C%20%5B10.395000457763672%2C%20-75.56199645996094%2C%2051.0%5D%2C%20%5B10.456999778747559%2C%20-75.50599670410156%2C%2061.0%5D%2C%20%5B10.427000045776367%2C%20-75.55000305175781%2C%2040.0%5D%2C%20%5B10.405240058898926%2C%20-75.55520629882812%2C%2073.0%5D%2C%20%5B10.395000457763672%2C%20-75.56199645996094%2C%2095.0%5D%2C%20%5B10.401359558105469%2C%20-75.55803680419922%2C%2061.0%5D%2C%20%5B10.399999618530273%2C%20-75.55699920654297%2C%2027.0%5D%2C%20%5B10.403759956359863%2C%20-75.55399322509766%2C%2053.0%5D%2C%20%5B10.412540435791016%2C%20-75.55021667480469%2C%2044.0%5D%2C%20%5B10.405830383300781%2C%20-75.5543212890625%2C%2052.0%5D%2C%20%5B10.461999893188477%2C%20-75.50599670410156%2C%2080.0%5D%2C%20%5B10.465929985046387%2C%20-75.50035858154297%2C%2088.0%5D%2C%20%5B10.409950256347656%2C%20-75.5505599975586%2C%2069.0%5D%2C%20%5B10.412650108337402%2C%20-75.5519790649414%2C%2077.0%5D%2C%20%5B10.405489921569824%2C%20-75.55545043945312%2C%2071.0%5D%2C%20%5B10.458060264587402%2C%20-75.50650787353516%2C%2074.0%5D%2C%20%5B10.462570190429688%2C%20-75.50447082519531%2C%20109.0%5D%2C%20%5B10.40155029296875%2C%20-75.55489349365234%2C%2057.0%5D%2C%20%5B10.405610084533691%2C%20-75.55599975585938%2C%2078.0%5D%2C%20%5B10.411840438842773%2C%20-75.5502700805664%2C%2076.0%5D%2C%20%5B10.406149864196777%2C%20-75.55393981933594%2C%2072.0%5D%2C%20%5B10.46399974822998%2C%20-75.50199890136719%2C%2071.0%5D%2C%20%5B10.429320335388184%2C%20-75.54589080810547%2C%2060.0%5D%2C%20%5B10.404219627380371%2C%20-75.55590057373047%2C%2090.0%5D%2C%20%5B10.402999877929688%2C%20-75.55699920654297%2C%2080.0%5D%2C%20%5B10.409000396728516%2C%20-75.552001953125%2C%20114.0%5D%2C%20%5B10.457169532775879%2C%20-75.51036071777344%2C%2060.0%5D%2C%20%5B10.422100067138672%2C%20-75.5344467163086%2C%2031.0%5D%2C%20%5B10.410860061645508%2C%20-75.55236053466797%2C%2069.0%5D%2C%20%5B10.41100025177002%2C%20-75.5510025024414%2C%2068.0%5D%2C%20%5B10.417920112609863%2C%20-75.54113006591797%2C%2043.0%5D%2C%20%5B10.395660400390625%2C%20-75.56242370605469%2C%2089.0%5D%2C%20%5B10.412650108337402%2C%20-75.55158996582031%2C%2075.0%5D%2C%20%5B10.433699607849121%2C%20-75.5408935546875%2C%2037.0%5D%2C%20%5B10.457539558410645%2C%20-75.50675201416016%2C%2093.0%5D%2C%20%5B10.458800315856934%2C%20-75.5059814453125%2C%2071.0%5D%2C%20%5B10.407999992370605%2C%20-75.552001953125%2C%2037.0%5D%2C%20%5B10.404999732971191%2C%20-75.55500030517578%2C%2072.0%5D%2C%20%5B10.411680221557617%2C%20-75.55061340332031%2C%2080.0%5D%2C%20%5B10.437379837036133%2C%20-75.53421020507812%2C%2092.0%5D%2C%20%5B10.4164400100708%2C%20-75.54254150390625%2C%2051.0%5D%2C%20%5B10.435970306396484%2C%20-75.53611755371094%2C%2084.0%5D%2C%20%5B10.436180114746094%2C%20-75.53539276123047%2C%2080.0%5D%2C%20%5B10.460049629211426%2C%20-75.50691986083984%2C%2054.0%5D%2C%20%5B10.404999732971191%2C%20-75.55500030517578%2C%2077.0%5D%2C%20%5B10.436240196228027%2C%20-75.53582763671875%2C%2091.0%5D%2C%20%5B10.40604019165039%2C%20-75.55402374267578%2C%2091.0%5D%2C%20%5B10.426989555358887%2C%20-75.54707336425781%2C%2098.0%5D%2C%20%5B10.39490032196045%2C%20-75.5636978149414%2C%2036.0%5D%2C%20%5B10.467240333557129%2C%20-75.49864959716797%2C%2057.0%5D%2C%20%5B10.404899597167969%2C%20-75.55561065673828%2C%2082.0%5D%2C%20%5B10.397000312805176%2C%20-75.56400299072266%2C%2052.0%5D%2C%20%5B10.403590202331543%2C%20-75.5545883178711%2C%2065.0%5D%2C%20%5B10.417909622192383%2C%20-75.54283142089844%2C%2042.0%5D%2C%20%5B10.423999786376953%2C%20-75.5510025024414%2C%20108.0%5D%2C%20%5B10.403639793395996%2C%20-75.55647277832031%2C%2067.0%5D%2C%20%5B10.466270446777344%2C%20-75.50224304199219%2C%2059.0%5D%2C%20%5B10.395999908447266%2C%20-75.56300354003906%2C%2027.0%5D%2C%20%5B10.430680274963379%2C%20-75.54476928710938%2C%2035.0%5D%2C%20%5B10.396400451660156%2C%20-75.56172180175781%2C%2040.0%5D%2C%20%5B10.424309730529785%2C%20-75.5540771484375%2C%2069.0%5D%2C%20%5B10.404359817504883%2C%20-75.55561065673828%2C%2085.0%5D%2C%20%5B10.427069664001465%2C%20-75.54779815673828%2C%2083.0%5D%2C%20%5B10.465999603271484%2C%20-75.5009994506836%2C%2061.0%5D%2C%20%5B10.409000396728516%2C%20-75.552001953125%2C%20115.0%5D%2C%20%5B10.437000274658203%2C%20-75.53500366210938%2C%20120.0%5D%2C%20%5B10.402999877929688%2C%20-75.55599975585938%2C%20103.0%5D%2C%20%5B10.466699600219727%2C%20-75.50153350830078%2C%2088.0%5D%2C%20%5B10.395000457763672%2C%20-75.56199645996094%2C%2076.0%5D%2C%20%5B10.402999877929688%2C%20-75.55599975585938%2C%2077.0%5D%2C%20%5B10.396699905395508%2C%20-75.5642318725586%2C%2073.0%5D%2C%20%5B10.452549934387207%2C%20-75.51351928710938%2C%2057.0%5D%2C%20%5B10.457489967346191%2C%20-75.50540924072266%2C%2058.0%5D%2C%20%5B10.404210090637207%2C%20-75.55484771728516%2C%2057.0%5D%2C%20%5B10.426959991455078%2C%20-75.54634857177734%2C%20108.0%5D%2C%20%5B10.408080101013184%2C%20-75.55127716064453%2C%2043.0%5D%2C%20%5B10.453880310058594%2C%20-75.51116943359375%2C%2075.0%5D%2C%20%5B10.402009963989258%2C%20-75.55281829833984%2C%20167.0%5D%2C%20%5B10.462770462036133%2C%20-75.50370788574219%2C%2057.0%5D%2C%20%5B10.46243953704834%2C%20-75.50447845458984%2C%2086.0%5D%2C%20%5B10.399860382080078%2C%20-75.55452728271484%2C%20100.0%5D%2C%20%5B10.456000328063965%2C%20-75.50499725341797%2C%2061.0%5D%2C%20%5B10.4060697555542%2C%20-75.55380249023438%2C%2052.0%5D%2C%20%5B10.407010078430176%2C%20-75.55441284179688%2C%2057.0%5D%2C%20%5B10.416179656982422%2C%20-75.54266357421875%2C%2042.0%5D%2C%20%5B10.403380393981934%2C%20-75.55269622802734%2C%2055.0%5D%2C%20%5B10.395000457763672%2C%20-75.5530014038086%2C%2034.0%5D%2C%20%5B10.430290222167969%2C%20-75.546630859375%2C%2069.0%5D%2C%20%5B10.466899871826172%2C%20-75.49823760986328%2C%2060.0%5D%2C%20%5B10.464380264282227%2C%20-75.50160217285156%2C%2091.0%5D%2C%20%5B10.428999900817871%2C%20-75.53500366210938%2C%2042.0%5D%2C%20%5B10.408300399780273%2C%20-75.5513916015625%2C%2043.0%5D%2C%20%5B10.419190406799316%2C%20-75.54434967041016%2C%20170.0%5D%2C%20%5B10.455750465393066%2C%20-75.5062484741211%2C%2035.0%5D%2C%20%5B10.397000312805176%2C%20-75.56400299072266%2C%2080.0%5D%2C%20%5B10.404999732971191%2C%20-75.55500030517578%2C%20115.0%5D%2C%20%5B10.393989562988281%2C%20-75.56314086914062%2C%20104.0%5D%2C%20%5B10.409830093383789%2C%20-75.55269622802734%2C%2065.0%5D%2C%20%5B10.402609825134277%2C%20-75.55764770507812%2C%2092.0%5D%2C%20%5B10.428000450134277%2C%20-75.5469970703125%2C%20119.0%5D%2C%20%5B10.465849876403809%2C%20-75.49922943115234%2C%2052.0%5D%2C%20%5B10.434120178222656%2C%20-75.53964233398438%2C%2091.0%5D%2C%20%5B10.46522045135498%2C%20-75.50138092041016%2C%2052.0%5D%2C%20%5B10.457869529724121%2C%20-75.50717163085938%2C%20143.0%5D%2C%20%5B10.397000312805176%2C%20-75.56300354003906%2C%2063.0%5D%2C%20%5B10.494990348815918%2C%20-75.47622680664062%2C%2052.0%5D%2C%20%5B10.429450035095215%2C%20-75.54791259765625%2C%20369.0%5D%2C%20%5B10.416000366210938%2C%20-75.54273223876953%2C%2055.0%5D%2C%20%5B10.394000053405762%2C%20-75.56199645996094%2C%2046.0%5D%2C%20%5B10.42593002319336%2C%20-75.54987335205078%2C%20454.0%5D%2C%20%5B10.403759956359863%2C%20-75.55542755126953%2C%20140.0%5D%2C%20%5B10.394379615783691%2C%20-75.47418212890625%2C%2030.0%5D%2C%20%5B10.395000457763672%2C%20-75.56199645996094%2C%2076.0%5D%2C%20%5B10.422209739685059%2C%20-75.53336334228516%2C%2032.0%5D%2C%20%5B10.395569801330566%2C%20-75.56343841552734%2C%2064.0%5D%2C%20%5B10.409720420837402%2C%20-75.55126190185547%2C%2093.0%5D%2C%20%5B10.403980255126953%2C%20-75.5572280883789%2C%2088.0%5D%2C%20%5B10.465999603271484%2C%20-75.5009994506836%2C%2068.0%5D%2C%20%5B10.465999603271484%2C%20-75.5009994506836%2C%20104.0%5D%2C%20%5B10.404999732971191%2C%20-75.55500030517578%2C%2075.0%5D%2C%20%5B10.41034984588623%2C%20-75.55184936523438%2C%20104.0%5D%2C%20%5B10.395000457763672%2C%20-75.56199645996094%2C%20104.0%5D%2C%20%5B10.425410270690918%2C%20-75.5472183227539%2C%20345.0%5D%2C%20%5B10.39408016204834%2C%20-75.56175231933594%2C%2043.0%5D%2C%20%5B10.459090232849121%2C%20-75.50636291503906%2C%20138.0%5D%2C%20%5B10.467260360717773%2C%20-75.49990844726562%2C%2034.0%5D%2C%20%5B10.460000038146973%2C%20-75.50599670410156%2C%2057.0%5D%2C%20%5B10.437040328979492%2C%20-75.53539276123047%2C%20179.0%5D%2C%20%5B10.422329902648926%2C%20-75.5471420288086%2C%20364.0%5D%2C%20%5B10.434260368347168%2C%20-75.53379821777344%2C%2029.0%5D%2C%20%5B10.46504020690918%2C%20-75.5003662109375%2C%20131.0%5D%2C%20%5B10.427530288696289%2C%20-75.54773712158203%2C%20128.0%5D%2C%20%5B10.403120040893555%2C%20-75.5577621459961%2C%20120.0%5D%2C%20%5B10.395310401916504%2C%20-75.56008911132812%2C%2032.0%5D%2C%20%5B10.41100025177002%2C%20-75.5510025024414%2C%2089.0%5D%2C%20%5B10.401482582092285%2C%20-75.5530014038086%2C%20105.0%5D%2C%20%5B10.410470008850098%2C%20-75.55210876464844%2C%2086.0%5D%2C%20%5B10.423999786376953%2C%20-75.552001953125%2C%2094.0%5D%2C%20%5B10.451169967651367%2C%20-75.51505279541016%2C%2055.0%5D%2C%20%5B10.422590255737305%2C%20-75.54557800292969%2C%20283.0%5D%2C%20%5B10.395609855651855%2C%20-75.5641098022461%2C%2059.0%5D%2C%20%5B10.39330005645752%2C%20-75.56172943115234%2C%2036.0%5D%2C%20%5B10.404999732971191%2C%20-75.55500030517578%2C%2095.0%5D%2C%20%5B10.423959732055664%2C%20-75.55255889892578%2C%2070.0%5D%2C%20%5B10.407770156860352%2C%20-75.55396270751953%2C%2077.0%5D%2C%20%5B10.410269737243652%2C%20-75.55265808105469%2C%2080.0%5D%2C%20%5B10.40353012084961%2C%20-75.55518341064453%2C%2089.0%5D%2C%20%5B10.399200439453125%2C%20-75.56063079833984%2C%2080.0%5D%2C%20%5B10.398200035095215%2C%20-75.4926986694336%2C%2014.0%5D%2C%20%5B10.407039642333984%2C%20-75.55155181884766%2C%2057.0%5D%2C%20%5B10.427709579467773%2C%20-75.54569244384766%2C%2069.0%5D%2C%20%5B10.403690338134766%2C%20-75.55386352539062%2C%2052.0%5D%2C%20%5B10.427000045776367%2C%20-75.5479965209961%2C%20283.0%5D%2C%20%5B10.396479606628418%2C%20-75.5621566772461%2C%2036.0%5D%2C%20%5B10.426190376281738%2C%20-75.54715728759766%2C%20697.0%5D%2C%20%5B10.46636962890625%2C%20-75.4999008178711%2C%2063.0%5D%2C%20%5B10.403570175170898%2C%20-75.55413055419922%2C%2067.0%5D%2C%20%5B10.402000427246094%2C%20-75.55400085449219%2C%2086.0%5D%2C%20%5B10.43278980255127%2C%20-75.53971862792969%2C%2070.0%5D%2C%20%5B10.404999732971191%2C%20-75.55500030517578%2C%2068.0%5D%2C%20%5B10.405360221862793%2C%20-75.55542755126953%2C%2057.0%5D%2C%20%5B10.432250022888184%2C%20-75.53327178955078%2C%2042.0%5D%2C%20%5B10.395339965820312%2C%20-75.56182098388672%2C%2094.0%5D%2C%20%5B10.407759666442871%2C%20-75.55264282226562%2C%2063.0%5D%2C%20%5B10.466950416564941%2C%20-75.50005340576172%2C%2072.0%5D%2C%20%5B10.408670425415039%2C%20-75.55278015136719%2C%2052.0%5D%2C%20%5B10.395970344543457%2C%20-75.56327056884766%2C%2032.0%5D%2C%20%5B10.45773983001709%2C%20-75.50598907470703%2C%2063.0%5D%2C%20%5B10.404999732971191%2C%20-75.55500030517578%2C%2064.0%5D%2C%20%5B10.394000053405762%2C%20-75.56099700927734%2C%2056.0%5D%2C%20%5B10.432780265808105%2C%20-75.53341674804688%2C%2080.0%5D%2C%20%5B10.436090469360352%2C%20-75.53545379638672%2C%20105.0%5D%2C%20%5B10.401060104370117%2C%20-75.55716705322266%2C%20103.0%5D%2C%20%5B10.404999732971191%2C%20-75.55500030517578%2C%2078.0%5D%2C%20%5B10.394000053405762%2C%20-75.56099700927734%2C%2040.0%5D%2C%20%5B10.411829948425293%2C%20-75.55055236816406%2C%2083.0%5D%2C%20%5B10.404999732971191%2C%20-75.55500030517578%2C%2069.0%5D%2C%20%5B10.397600173950195%2C%20-75.56346893310547%2C%2080.0%5D%2C%20%5B10.437000274658203%2C%20-75.53600311279297%2C%20200.0%5D%2C%20%5B10.423999786376953%2C%20-75.552001953125%2C%2065.0%5D%2C%20%5B10.403420448303223%2C%20-75.55299377441406%2C%2071.0%5D%2C%20%5B10.405559539794922%2C%20-75.55457305908203%2C%2092.0%5D%2C%20%5B10.394160270690918%2C%20-75.5616683959961%2C%2080.0%5D%2C%20%5B10.463069915771484%2C%20-75.50212097167969%2C%20109.0%5D%2C%20%5B10.395039558410645%2C%20-75.56208801269531%2C%2077.0%5D%2C%20%5B10.404379844665527%2C%20-75.55506134033203%2C%20120.0%5D%2C%20%5B10.456990242004395%2C%20-75.50489044189453%2C%2081.0%5D%2C%20%5B10.39834976196289%2C%20-75.55448150634766%2C%2050.0%5D%2C%20%5B10.465999603271484%2C%20-75.5009994506836%2C%2079.0%5D%2C%20%5B10.390700340270996%2C%20-75.463623046875%2C%2029.0%5D%2C%20%5B10.3951997756958%2C%20-75.55367279052734%2C%2080.0%5D%2C%20%5B10.409150123596191%2C%20-75.5513687133789%2C%20109.0%5D%2C%20%5B10.405739784240723%2C%20-75.55631256103516%2C%20113.0%5D%2C%20%5B10.467000007629395%2C%20-75.5%2C%2057.0%5D%2C%20%5B10.463000297546387%2C%20-75.50299835205078%2C%2065.0%5D%2C%20%5B10.402999877929688%2C%20-75.55439758300781%2C%2080.0%5D%2C%20%5B10.400409698486328%2C%20-75.55927276611328%2C%2086.0%5D%2C%20%5B10.418899536132812%2C%20-75.54459381103516%2C%20404.0%5D%2C%20%5B10.437970161437988%2C%20-75.5357666015625%2C%2084.0%5D%2C%20%5B10.397520065307617%2C%20-75.56340026855469%2C%2072.0%5D%2C%20%5B10.395500183105469%2C%20-75.55843353271484%2C%2060.0%5D%2C%20%5B10.41786003112793%2C%20-75.5428695678711%2C%2043.0%5D%2C%20%5B10.426919937133789%2C%20-75.54910278320312%2C%2080.0%5D%2C%20%5B10.410869598388672%2C%20-75.55098724365234%2C%2097.0%5D%2C%20%5B10.40781021118164%2C%20-75.55281066894531%2C%2040.0%5D%2C%20%5B10.405570030212402%2C%20-75.55436706542969%2C%20119.0%5D%2C%20%5B10.416780471801758%2C%20-75.54145050048828%2C%2058.0%5D%2C%20%5B10.427000045776367%2C%20-75.55000305175781%2C%2081.0%5D%2C%20%5B10.405969619750977%2C%20-75.55622100830078%2C%2094.0%5D%2C%20%5B10.396929740905762%2C%20-75.51880645751953%2C%20147.0%5D%2C%20%5B10.402070045471191%2C%20-75.55718994140625%2C%2087.0%5D%2C%20%5B10.411829948425293%2C%20-75.55030822753906%2C%20158.0%5D%2C%20%5B10.402999877929688%2C%20-75.55599975585938%2C%2065.0%5D%2C%20%5B10.423689842224121%2C%20-75.54682159423828%2C%20381.0%5D%2C%20%5B10.406999588012695%2C%20-75.5530014038086%2C%2052.0%5D%2C%20%5B10.466899871826172%2C%20-75.49817657470703%2C%2055.0%5D%2C%20%5B10.395039558410645%2C%20-75.56307983398438%2C%2047.0%5D%2C%20%5B10.404780387878418%2C%20-75.55445098876953%2C%2052.0%5D%2C%20%5B10.420929908752441%2C%20-75.54541015625%2C%20138.0%5D%2C%20%5B10.457320213317871%2C%20-75.5050277709961%2C%2052.0%5D%2C%20%5B10.418100357055664%2C%20-75.54134368896484%2C%2055.0%5D%2C%20%5B10.394709587097168%2C%20-75.56327819824219%2C%20105.0%5D%2C%20%5B10.452489852905273%2C%20-75.51400756835938%2C%2066.0%5D%2C%20%5B10.406000137329102%2C%20-75.55400085449219%2C%2062.0%5D%2C%20%5B10.394439697265625%2C%20-75.5624008178711%2C%2038.0%5D%2C%20%5B10.416600227355957%2C%20-75.54254150390625%2C%2058.0%5D%2C%20%5B10.408470153808594%2C%20-75.5521469116211%2C%2065.0%5D%2C%20%5B10.445560455322266%2C%20-75.52503204345703%2C%2023.0%5D%2C%20%5B10.39402961730957%2C%20-75.56150817871094%2C%2029.0%5D%2C%20%5B10.45199966430664%2C%20-75.51499938964844%2C%2061.0%5D%2C%20%5B10.470680236816406%2C%20-75.497802734375%2C%2034.0%5D%2C%20%5B10.399999618530273%2C%20-75.55799865722656%2C%2021.0%5D%2C%20%5B10.425399780273438%2C%20-75.550537109375%2C%2023.0%5D%2C%20%5B10.457810401916504%2C%20-75.50602722167969%2C%2050.0%5D%5D%2C%0A%20%20%20%20%20%20%20%20%20%20%20%20%20%20%20%20%7B%22blur%22%3A%206%2C%20%22maxZoom%22%3A%2018%2C%20%22minOpacity%22%3A%200.1%2C%20%22radius%22%3A%2010%2C%20%22zoomStart%22%3A%2060%7D%0A%20%20%20%20%20%20%20%20%20%20%20%20%29.addTo%28map_ab529c83247f45fe9494615fdaa2a708%29%3B%0A%20%20%20%20%20%20%20%20%0A%3C/script%3E onload=\"this.contentDocument.open();this.contentDocument.write(    decodeURIComponent(this.getAttribute('data-html')));this.contentDocument.close();\" allowfullscreen webkitallowfullscreen mozallowfullscreen></iframe></div></div>"
      ],
      "text/plain": [
       "<folium.folium.Map at 0x7fc74f3f5df0>"
      ]
     },
     "execution_count": 27,
     "metadata": {},
     "output_type": "execute_result"
    }
   ],
   "source": [
    "# max_amount = float(df_geo['price_rate'].max())\n",
    "\n",
    "folium_hmap = folium.Map(location=[10.3932, -75.4832],\n",
    "                        zoom_start=10,\n",
    "                        tiles=\"OpenStreetMap\")\n",
    "\n",
    "hm_wide = HeatMap( list(zip(df['latitude'], df['longitude'], df['price_rate'])),\n",
    "                   min_opacity=0.1,\n",
    "                   radius=10, blur=6, \n",
    "                   zoom_start=60, \n",
    "                 )\n",
    "folium_hmap.add_child(hm_wide)"
   ]
  },
  {
   "cell_type": "code",
   "execution_count": 21,
   "metadata": {},
   "outputs": [],
   "source": [
    "df.reset_index(drop=True, inplace=True)"
   ]
  },
  {
   "cell_type": "code",
   "execution_count": null,
   "metadata": {},
   "outputs": [],
   "source": [
    "df[['latitude', 'longitude']]"
   ]
  },
  {
   "cell_type": "code",
   "execution_count": null,
   "metadata": {},
   "outputs": [],
   "source": []
  }
 ],
 "metadata": {
  "kernelspec": {
   "display_name": "Python 3",
   "language": "python",
   "name": "python3"
  },
  "language_info": {
   "codemirror_mode": {
    "name": "ipython",
    "version": 3
   },
   "file_extension": ".py",
   "mimetype": "text/x-python",
   "name": "python",
   "nbconvert_exporter": "python",
   "pygments_lexer": "ipython3",
   "version": "3.8.5"
  }
 },
 "nbformat": 4,
 "nbformat_minor": 4
}
